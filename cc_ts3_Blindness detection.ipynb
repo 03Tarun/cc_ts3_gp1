{
 "cells": [
  {
   "cell_type": "code",
   "execution_count": 24,
   "id": "9370df04",
   "metadata": {},
   "outputs": [],
   "source": [
    "!pip install -q opencv-python"
   ]
  },
  {
   "cell_type": "code",
   "execution_count": 25,
   "id": "91f2f268",
   "metadata": {},
   "outputs": [
    {
     "name": "stdout",
     "output_type": "stream",
     "text": [
      " detected!\n"
     ]
    }
   ],
   "source": [
    "import cv2\n",
    "#Load the pre-trained Haar cascade for eye detection\n",
    "eye_cascade = cv2.CascadeClassifier(cv2.data.haarcascades + 'haarcascade_eye.xml')\n",
    "\n",
    "#Load the image\n",
    "img = cv2.imread('eye_image1.jpg')\n",
    "\n",
    "# Convert the image to grayscale \n",
    "gray = cv2.cvtColor(img, cv2.COLOR_BGR2GRAY)\n",
    "\n",
    "# Detect eyes in the grayscale image\n",
    "eyes = eye_cascade.detectMultiScale(gray, scaleFactor=1.1, minNeighbors=5, minSize=(30, 30))\n",
    "\n",
    "#Check if eyes are detected\n",
    "if len(eyes) > 0:\n",
    "    print(\" detected!\")\n",
    "else:\n",
    "    print(\"Not detected.\")\n",
    "# Display the image with rectangles around the detected eyes \n",
    "for (x, y, w, h) in eyes: \n",
    "    cv2.rectangle(img, (x, y), (x+w, y+h), (0, 255, 0), 2)\n",
    "# Display the image\n",
    "cv2.imshow('Blindness Detection', img)\n",
    "cv2.waitKey(0)\n",
    "cv2.destroyAllWindows()"
   ]
  },
  {
   "cell_type": "code",
   "execution_count": null,
   "id": "dbc71404",
   "metadata": {},
   "outputs": [],
   "source": []
  },
  {
   "cell_type": "code",
   "execution_count": null,
   "id": "3bc20ec9",
   "metadata": {},
   "outputs": [],
   "source": []
  }
 ],
 "metadata": {
  "kernelspec": {
   "display_name": "Python 3 (ipykernel)",
   "language": "python",
   "name": "python3"
  },
  "language_info": {
   "codemirror_mode": {
    "name": "ipython",
    "version": 3
   },
   "file_extension": ".py",
   "mimetype": "text/x-python",
   "name": "python",
   "nbconvert_exporter": "python",
   "pygments_lexer": "ipython3",
   "version": "3.9.12"
  }
 },
 "nbformat": 4,
 "nbformat_minor": 5
}
